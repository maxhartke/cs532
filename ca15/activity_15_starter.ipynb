{
 "cells": [
  {
   "cell_type": "code",
   "execution_count": 12,
   "metadata": {},
   "outputs": [],
   "source": [
    "import numpy as np\n",
    "from scipy.io import loadmat"
   ]
  },
  {
   "cell_type": "markdown",
   "metadata": {},
   "source": [
    "---\n",
    "# Question 2\n",
    "---"
   ]
  },
  {
   "cell_type": "code",
   "execution_count": 13,
   "metadata": {},
   "outputs": [],
   "source": [
    "Xtrue = loadmat(\"incomplete.mat\")[\"Xtrue\"]\n",
    "Y1 = loadmat(\"incomplete.mat\")[\"Y1\"]\n",
    "Y2 = loadmat(\"incomplete.mat\")[\"Y2\"]\n",
    "Y3 = loadmat(\"incomplete.mat\")[\"Y3\"]"
   ]
  },
  {
   "cell_type": "code",
   "execution_count": 28,
   "metadata": {},
   "outputs": [
    {
     "name": "stdout",
     "output_type": "stream",
     "text": [
      "Y1 with rank 2\n",
      "87.24667705099665\n",
      "Y2 with rank 2\n",
      "0.00473559952738469\n",
      "Y3 with rank 2\n",
      "0.000715321865523942\n",
      "Y1 with rank 3\n",
      "128.7780484677201\n",
      "Y2 with rank 3\n",
      "48.97940976510764\n",
      "Y3 with rank 3\n",
      "20.785069891602074\n"
     ]
    }
   ],
   "source": [
    "def ItSingValThresh(Y, r):\n",
    "    \"\"\"\n",
    "    Iterative Singular Value Thresholding function for Matrix Completion\n",
    "    \"\"\"\n",
    "    tol = 10**(-3)  # difference between iterates at termination\n",
    "    max_its = 100\n",
    "    n,p = Y.shape \n",
    "    X = np.array(Y) #make a copy so operations do not mutate the original\n",
    "    X[np.isnan(X)] = 0 # Fill in missing entries with zeros\n",
    "\n",
    "    err = 10**6 \n",
    "    itt = 0\n",
    "    \n",
    "    while err > tol and itt < max_its:\n",
    "        U,s,VT = np.linalg.svd(X, full_matrices=False)\n",
    "        V, S = VT.T, np.diag(s)\n",
    "        Xnew = np.dot(U[:,:r],np.dot(S[:r,:r],V[:,:r].T))\n",
    "        for i in range(n):\n",
    "            for j in range(p):\n",
    "                if ~np.isnan(Y[i,j]):  #replace Xnew with known entries\n",
    "                    Xnew[i,j] = Y[i,j]\n",
    "        err = np.linalg.norm(X-Xnew,'fro') \n",
    "        X = Xnew\n",
    "        itt += 1\n",
    "    return X\n",
    "# compare error with Xtrue by using rank 2 approximation\n",
    "print(\"Y1 with rank 2\")\n",
    "print(np.linalg.norm(Xtrue-ItSingValThresh(Y1,2), 'fro'))\n",
    "print(\"Y2 with rank 2\")\n",
    "print(np.linalg.norm(Xtrue-ItSingValThresh(Y2,2), 'fro'))\n",
    "print(\"Y3 with rank 2\")\n",
    "print(np.linalg.norm(Xtrue-ItSingValThresh(Y3,2), 'fro'))\n",
    "\n",
    "# compare error with Xtrue by using rank 3 approximation\n",
    "print(\"Y1 with rank 3\")\n",
    "print(np.linalg.norm(Xtrue-ItSingValThresh(Y1,3), 'fro'))\n",
    "print(\"Y2 with rank 3\")\n",
    "print(np.linalg.norm(Xtrue-ItSingValThresh(Y2,3), 'fro'))\n",
    "print(\"Y3 with rank 3\")\n",
    "print(np.linalg.norm(Xtrue-ItSingValThresh(Y3,3), 'fro'))"
   ]
  },
  {
   "attachments": {},
   "cell_type": "markdown",
   "metadata": {},
   "source": [
    "### b)\n",
    "\n",
    "The rank is incorrect and thus the error increases"
   ]
  }
 ],
 "metadata": {
  "kernelspec": {
   "display_name": "Python 3",
   "language": "python",
   "name": "python3"
  },
  "language_info": {
   "codemirror_mode": {
    "name": "ipython",
    "version": 3
   },
   "file_extension": ".py",
   "mimetype": "text/x-python",
   "name": "python",
   "nbconvert_exporter": "python",
   "pygments_lexer": "ipython3",
   "version": "3.9.12"
  }
 },
 "nbformat": 4,
 "nbformat_minor": 4
}
