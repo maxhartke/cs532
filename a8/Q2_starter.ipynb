{
 "cells": [
  {
   "cell_type": "code",
   "execution_count": 14,
   "metadata": {},
   "outputs": [
    {
     "name": "stdout",
     "output_type": "stream",
     "text": [
      "30 30 235\n",
      "30 30 235\n",
      "30 30 235\n",
      "30 30 235\n",
      "30 29 236\n",
      "29 29 237\n",
      "29 29 237\n",
      "29 30 236\n",
      "Lasso average error rate: 0.29137931034482756\n",
      "Ridge average error rate: 0.29554597701149427\n",
      "\n",
      "Lasso average lambda: 10.12500025\n",
      "Ridge average lambda: 20.0\n",
      "\n",
      "Lasso average squarred error: 34.5\n",
      "Ridge average squarred error: 35.0\n",
      "\n",
      "Lasso average misclassifications: 8.625\n",
      "Ridge average misclassifications: 8.75\n"
     ]
    }
   ],
   "source": [
    "## Breast Cancer LASSO Exploration\n",
    "## Prepare workspace\n",
    "from scipy.io import loadmat\n",
    "import numpy as np\n",
    "import matplotlib.pyplot as plt\n",
    "\n",
    "X = loadmat(\"BreastCancer.mat\")['X']\n",
    "y = loadmat(\"BreastCancer.mat\")['y']\n",
    "\n",
    "##  10-fold CV \n",
    "\n",
    "# each row of setindices denotes the starting an ending index for one\n",
    "# partition of the data: 5 sets of 30 samples and 5 sets of 29 samples\n",
    "setindices = [[1,30],[31,60],[61,90],[91,120],[121,150],[151,179],[180,208],[209,237],[238,266],[267,295]]\n",
    "\n",
    "# each row of holdoutindices denotes the partitions that are held out from\n",
    "# the training set\n",
    "holdoutindices = [[1,2],[2,3],[3,4],[4,5],[5,6],[7,8],[9,10],[10,1]]\n",
    "\n",
    "cases = len(holdoutindices)\n",
    "lam_vals = [1e-6, 1e-5, 1e-4, 1e-3, 1e-2, 1e-1, 1, 10, 20]\n",
    "\n",
    "# be sure to initiate the quantities you want to measure before looping\n",
    "# through the various training, validation, and test partitions\n",
    "\n",
    "squaredErrorLasso = []\n",
    "squaredErrorRidge = []\n",
    "errorRateLasso = []\n",
    "errorRateRidge = []\n",
    "bestLambdasLasso = []\n",
    "bestLambdasRidge = []\n",
    "errorCountLasso = []\n",
    "errorCountRidge = []\n",
    "\n",
    "W_lasso = []\n",
    "W_ridge = np.zeros((X.shape[1], len(lam_vals)))\n",
    "\n",
    "# Loop over various cases\n",
    "for j in range(cases):\n",
    "    # row indices of first validation set\n",
    "    v1_ind = np.arange(setindices[holdoutindices[j][0]-1][0]-1,setindices[holdoutindices[j][0]-1][1])\n",
    "    \n",
    "    # row indices of second validation set\n",
    "    v2_ind = np.arange(setindices[holdoutindices[j][1]-1][0]-1,setindices[holdoutindices[j][1]-1][1])\n",
    "    \n",
    "    # row indices of training set\n",
    "    trn_ind = list(set(range(295))-set(v1_ind)-set(v2_ind))\n",
    "    \n",
    "    # define matrix of features and labels corresponding to first\n",
    "    # validation set\n",
    "    Av1 = X[v1_ind,:]\n",
    "    bv1 = y[v1_ind]\n",
    "    \n",
    "    # define matrix of features and labels corresponding to second\n",
    "    # validation set\n",
    "    Av2 = X[v2_ind,:]\n",
    "    bv2 = y[v2_ind]\n",
    "    \n",
    "    # define matrix of features and labels corresponding to the \n",
    "    # training set\n",
    "    At = X[trn_ind,:]\n",
    "    bt = y[trn_ind]\n",
    "    \n",
    "    print(len(v1_ind), len(v2_ind), len(trn_ind))\n",
    "# Use training data to learn classifier\n",
    "# W = ista_solve_hot(At,bt,lam_vals)\n",
    "\n",
    "# Find best lambda value using first validation set, then evaluate\n",
    "# performance on second validation set, and accumulate performance metrics\n",
    "# over all cases partitions\n",
    "    W_lasso = ista_solve_hot(At, bt, lam_vals)\n",
    "    \n",
    "    for l in lam_vals:\n",
    "        W_ridge[:, [i]] = At.T@np.linalg.inv(At@At.T + l*np.identity(At.shape[0]))@bt\n",
    "    \n",
    "    minErrorLasso, minErrorRidge = 1, 1\n",
    "    minIndexLasso, minIndexRidge = None, None\n",
    "    for i in range(len(lam_vals)):\n",
    "        bv1_lasso = np.sign(Av1@W_lasso[:, [i]])\n",
    "        bv1_ridge = np.sign(Av1@W_ridge[:, [i]])\n",
    "        \n",
    "        errorRateLasso1 = np.count_nonzero(bv1 - bv1_lasso) / bv1.shape[0]\n",
    "        errorRateRidge1 = np.count_nonzero(bv1 - bv1_ridge) / bv1.shape[0]\n",
    "        \n",
    "        if errorRateLasso1 < minErrorLasso:\n",
    "            minErrorLasso = errorRateLasso1\n",
    "            minIndexLasso = i\n",
    "            \n",
    "            \n",
    "        if errorRateRidge1 < minErrorRidge:\n",
    "            minErrorRidge = errorRateRidge1\n",
    "            minIndexRidge = i\n",
    "        \n",
    "        \n",
    "    bv2_lasso = np.sign(Av2@W_lasso[:, [minIndexLasso]])\n",
    "    bv2_ridge = np.sign(Av2@W_ridge[:, [minIndexRidge]])\n",
    "\n",
    "    errorCountLasso.append(np.count_nonzero(bv2 - bv2_lasso)) \n",
    "    errorCountRidge.append(np.count_nonzero(bv2 - bv2_ridge)) \n",
    "    \n",
    "    errorRateLasso2 = np.count_nonzero(bv2 - bv2_lasso) / bv2.shape[0]\n",
    "    errorRateRidge2 = np.count_nonzero(bv2 - bv2_ridge) / bv2.shape[0]\n",
    "    \n",
    "    errorRateLasso.append(errorRateLasso2)\n",
    "    errorRateRidge.append(errorRateRidge2)\n",
    "    bestLambdasLasso.append(lam_vals[minIndexLasso])\n",
    "    bestLambdasRidge.append(lam_vals[minIndexRidge])\n",
    "    \n",
    "    squaredErrorRidge.append(np.linalg.norm(bv2-bv2_ridge, 2)**2)\n",
    "    squaredErrorLasso.append(np.linalg.norm(bv2-bv2_lasso, 2)**2)\n",
    "\n",
    "print(\"Lasso average error rate: \" + str(np.mean(errorRateLasso)))\n",
    "print(\"Ridge average error rate: \" + str(np.mean(errorRateRidge)))\n",
    "print()\n",
    "\n",
    "print(\"Lasso average lambda: \" + str(np.mean(bestLambdasLasso)))\n",
    "print(\"Ridge average lambda: \" + str(np.mean(bestLambdasRidge)))\n",
    "print()\n",
    "\n",
    "print(\"Lasso average squarred error: \" + str(np.mean(squaredErrorLasso)))\n",
    "print(\"Ridge average squarred error: \" + str(np.mean(squaredErrorRidge)))\n",
    "print()\n",
    "\n",
    "print(\"Lasso average misclassifications: \" + str(np.mean(errorCountLasso)))\n",
    "print(\"Ridge average misclassifications: \" + str(np.mean(errorCountRidge)))"
   ]
  },
  {
   "cell_type": "code",
   "execution_count": 15,
   "metadata": {},
   "outputs": [],
   "source": [
    "def ista_solve_hot( A, d, la_array ):\n",
    "    # ista_solve_hot: Iterative soft-thresholding for multiple values of\n",
    "    # lambda with hot start for each case - the converged value for the previous\n",
    "    # value of lambda is used as an initial condition for the current lambda.\n",
    "    # this function solves the minimization problem\n",
    "    # Minimize |Ax-d|_2^2 + lambda*|x|_1 (Lasso regression)\n",
    "    # using iterative soft-thresholding.\n",
    "    max_iter = 10**4\n",
    "    tol = 10**(-3)\n",
    "    tau = 1/np.linalg.norm(A,2)**2\n",
    "    n = A.shape[1]\n",
    "    w = np.zeros((n,1))\n",
    "    num_lam = len(la_array)\n",
    "    X = np.zeros((n, num_lam))\n",
    "    for i, each_lambda in enumerate(la_array):\n",
    "        for j in range(max_iter):\n",
    "            z = w - tau*(A.T@(A@w-d))\n",
    "            w_old = w\n",
    "            w = np.sign(z) * np.clip(np.abs(z)-tau*each_lambda/2, 0, np.inf)\n",
    "            X[:, i:i+1] = w\n",
    "            if np.linalg.norm(w - w_old) < tol:\n",
    "                break\n",
    "    return X"
   ]
  },
  {
   "cell_type": "code",
   "execution_count": 16,
   "metadata": {},
   "outputs": [
    {
     "data": {
      "image/png": "[encoded data removed]",
      "text/plain": [
       "<Figure size 432x288 with 1 Axes>"
      ]
     },
     "metadata": {
      "needs_background": "light"
     },
     "output_type": "display_data"
    }
   ],
   "source": [
    "# a)\n",
    "\n",
    "x_train = X[:100]\n",
    "y_train = y[:100]\n",
    "\n",
    "W = ista_solve_hot(x_train, y_train,lam_vals)\n",
    "\n",
    "fig = plt.figure()\n",
    "x_axis = fig.add_subplot(111)\n",
    "for i in range(len(lam_vals)):\n",
    "    w_l1 = np.linalg.norm(W[:,i],1)\n",
    "    error = np.linalg.norm(x_train@W[:,i] - y_train, 2)\n",
    "    x_axis.scatter(w_l1, error, label=\"lambda = {}\".format(lam_vals[i]))\n",
    "x_axis.set_xlabel('L1 norm of w')\n",
    "x_axis.set_ylabel('Error')\n",
    "plt.legend()\n",
    "plt.show()"
   ]
  },
  {
   "attachments": {},
   "cell_type": "markdown",
   "metadata": {},
   "source": [
    "For initial values of of lambda, the l1 norm and the error are similar and as the l1 norm increases the error decreases. In adition as lamba increase, so does the error. The l1 norm and the error have an inverse relationship as seen in the graph."
   ]
  },
  {
   "cell_type": "code",
   "execution_count": 17,
   "metadata": {},
   "outputs": [
    {
     "data": {
      "image/png": "[encoded data removed]",
      "text/plain": [
       "<Figure size 432x288 with 1 Axes>"
      ]
     },
     "metadata": {
      "needs_background": "light"
     },
     "output_type": "display_data"
    }
   ],
   "source": [
    "# b)\n",
    "\n",
    "fig = plt.figure()\n",
    "ax1 = fig.add_subplot(111)\n",
    "for i in range(len(lam_vals)):\n",
    "    w = W[:,i]\n",
    "    w = np.expand_dims(w, 1)\n",
    "    errorRate = np.count_nonzero(np.sign(x_train@w) - y_train) / x_train.shape[0]\n",
    "    sparcity = (w > 1e-6).sum()\n",
    "    ax1.scatter(sparcity, errorRate, label=\"Lambda = {}\".format(lam_vals[i]))\n",
    "ax1.set_xlabel('Sparcity')\n",
    "ax1.set_ylabel('Error Rate')\n",
    "plt.legend()\n",
    "plt.show()"
   ]
  },
  {
   "attachments": {},
   "cell_type": "markdown",
   "metadata": {},
   "source": [
    "As the spartity increases, the l1 norm increases and the error decreases. The l1 norm and the error have an inverse relationship as seen in the graph."
   ]
  },
  {
   "cell_type": "code",
   "execution_count": 18,
   "metadata": {},
   "outputs": [
    {
     "data": {
      "image/png": "[encoded data removed]",
      "text/plain": [
       "<Figure size 432x288 with 1 Axes>"
      ]
     },
     "metadata": {
      "needs_background": "light"
     },
     "output_type": "display_data"
    },
    {
     "data": {
      "image/png": "[encoded data removed]",
      "text/plain": [
       "<Figure size 432x288 with 1 Axes>"
      ]
     },
     "metadata": {
      "needs_background": "light"
     },
     "output_type": "display_data"
    }
   ],
   "source": [
    "# c)\n",
    "\n",
    "X_val = X[100:]\n",
    "y_val = y[100:]\n",
    "\n",
    "fig = plt.figure()\n",
    "ax1 = fig.add_subplot(111)\n",
    "for i in range(len(lam_vals)):\n",
    "    w_l1 = np.linalg.norm(W[:,[i]], 1)\n",
    "    error = np.linalg.norm(X_val@W[:,[i]] - y_val,2)\n",
    "    ax1.scatter(w_l1, error, label=\"Lambda = {}\".format(lam_vals[i]))\n",
    "    \n",
    "\n",
    "ax1.set_xlabel('L1 norm of w')\n",
    "ax1.set_ylabel('Error')\n",
    "plt.legend(loc='lower right')\n",
    "plt.show()\n",
    "\n",
    "fig = plt.figure()\n",
    "ax1 = fig.add_subplot(111)\n",
    "for i in range(len(lam_vals)):\n",
    "    w = W[:,i]\n",
    "    w = np.expand_dims(w, 1)\n",
    "    errorRate = np.count_nonzero(np.sign(X_val@w) - y_val) / X_val.shape[0]\n",
    "    sparcity = (w > 1e-6).sum()\n",
    "\n",
    "    ax1.scatter(sparcity, errorRate, label=\"Lambda = {}\".format(lam_vals[i]))\n",
    "ax1.set_xlabel('Sparcity')\n",
    "ax1.set_ylabel('Error')\n",
    "plt.legend()\n",
    "plt.show()"
   ]
  },
  {
   "attachments": {},
   "cell_type": "markdown",
   "metadata": {},
   "source": [
    "The error rate decreases as lambda increases which might be caused by overfitting. "
   ]
  }
 ],
 "metadata": {
  "kernelspec": {
   "display_name": "Python 3",
   "language": "python",
   "name": "python3"
  },
  "language_info": {
   "codemirror_mode": {
    "name": "ipython",
    "version": 3
   },
   "file_extension": ".py",
   "mimetype": "text/x-python",
   "name": "python",
   "nbconvert_exporter": "python",
   "pygments_lexer": "ipython3",
   "version": "3.9.12"
  }
 },
 "nbformat": 4,
 "nbformat_minor": 4
}
