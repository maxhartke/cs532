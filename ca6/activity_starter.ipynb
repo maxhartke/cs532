{
 "cells": [
  {
   "cell_type": "code",
   "execution_count": 3,
   "metadata": {},
   "outputs": [
    {
     "name": "stdout",
     "output_type": "stream",
     "text": [
      "[[ 4.25]\n",
      " [17.5 ]\n",
      " [ 3.75]]\n"
     ]
    }
   ],
   "source": [
    "import numpy as np\n",
    "A = np.array([[25,0,1],[20,1,2],[40,1,6]])\n",
    "b = np.array([[110],[110],[210]])\n",
    "\n",
    "# To see rank, use: \n",
    "np.linalg.matrix_rank(A)\n",
    "\n",
    "# To invert a matrix, use:\n",
    "np.linalg.inv(A)\n",
    "\n",
    "# To multiply matrices in Python 3, use:\n",
    "# A@B\n",
    "print(np.linalg.inv(A.transpose()@A)@A.transpose()@b)"
   ]
  },
  {
   "cell_type": "code",
   "execution_count": 6,
   "metadata": {},
   "outputs": [
    {
     "name": "stdout",
     "output_type": "stream",
     "text": [
      "4\n",
      "[[4.]\n",
      " [4.]\n",
      " [9.]\n",
      " [4.]]\n"
     ]
    }
   ],
   "source": [
    "import numpy as np\n",
    "A = np.array([[25,15,10,0,1],[20,12,8,1,2],[40,30,10,1,6], [30,15,15,0,3], [35,20,15,2,4]])\n",
    "b = np.array([[104],[97],[193],[132],[174]])\n",
    "\n",
    "print(np.linalg.matrix_rank(A))\n",
    "\n",
    "# Note: you can use np.hstack() to concatinate vectors, for example np.hstack((A,b))\n",
    "\n",
    "# Note: you can select all the columns, except the first of a matrix A as:  A[:,1:]\n",
    "print(np.linalg.inv(A[:,1:].transpose()@A[:,1:])@A[:,1:].transpose()@b)"
   ]
  },
  {
   "cell_type": "code",
   "execution_count": 9,
   "metadata": {},
   "outputs": [
    {
     "name": "stdout",
     "output_type": "stream",
     "text": [
      "2\n",
      "[[ 1.  -0.5  1. ]\n",
      " [ 0.   1.5  0. ]\n",
      " [ 0.   1.5  0. ]\n",
      " [ 1.  -0.5  1. ]]\n"
     ]
    }
   ],
   "source": [
    "A = np.array([[.5,.5],[.5,-.5],[.5,-.5],[.5,.5]])\n",
    "b = np.array([[1,1,1],[1,-2,1]])\n",
    "print(np.linalg.matrix_rank(A@b))\n",
    "print(A@b)"
   ]
  },
  {
   "cell_type": "code",
   "execution_count": 10,
   "metadata": {},
   "outputs": [
    {
     "name": "stdout",
     "output_type": "stream",
     "text": [
      "[[1. 0.]\n",
      " [0. 1.]]\n"
     ]
    }
   ],
   "source": [
    "print(A.transpose()@A)"
   ]
  },
  {
   "cell_type": "code",
   "execution_count": null,
   "metadata": {},
   "outputs": [],
   "source": []
  }
 ],
 "metadata": {
  "kernelspec": {
   "display_name": "base",
   "language": "python",
   "name": "python3"
  },
  "language_info": {
   "codemirror_mode": {
    "name": "ipython",
    "version": 3
   },
   "file_extension": ".py",
   "mimetype": "text/x-python",
   "name": "python",
   "nbconvert_exporter": "python",
   "pygments_lexer": "ipython3",
   "version": "3.9.12"
  },
  "vscode": {
   "interpreter": {
    "hash": "04a5c8fe01231348fe49bc970c05f2b15681ee080ef1807ed4693c2fd57e019f"
   }
  }
 },
 "nbformat": 4,
 "nbformat_minor": 2
}
