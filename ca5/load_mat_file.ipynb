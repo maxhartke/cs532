{
 "cells": [
  {
   "cell_type": "code",
   "execution_count": 121,
   "metadata": {},
   "outputs": [
    {
     "name": "stdout",
     "output_type": "stream",
     "text": [
      "['__header__', '__version__', '__globals__', 'M', 'ans']\n",
      "[[ 4  7  2  8  7  4  2]\n",
      " [ 9  3  5  6 10  5  5]\n",
      " [ 4  8  3  7  6  4  1]\n",
      " [ 9  2  6  5  9  5  4]\n",
      " [ 4  9  2  8  7  4  1]]\n"
     ]
    }
   ],
   "source": [
    "import numpy as np\n",
    "from scipy.io import loadmat\n",
    "import matplotlib.pyplot as plt \n",
    "\n",
    "in_data = loadmat('movie.mat')\n",
    "#loadmat() loads a matlab workspace into a python dictionary, where the names of the variables are the keys \n",
    "#in the dictionary.  To see what variables are loaded, uncomment the line below: \n",
    "print([key for key in in_data])\n",
    "\n",
    "M = in_data['M']\n",
    "print(M)"
   ]
  },
  {
   "cell_type": "code",
   "execution_count": 130,
   "metadata": {},
   "outputs": [
    {
     "name": "stdout",
     "output_type": "stream",
     "text": [
      "[2.68, 2.59, 1.61, 3.04, 3.49, 1.97, 1.16]\n"
     ]
    }
   ],
   "source": [
    "# get sum of each column\n",
    "col_sum = np.sum(M, axis=0)\n",
    "N = []\n",
    "for i in col_sum:\n",
    "  # divide by sqrt of 5\n",
    "  N.append(np.round(i/np.sqrt(5)/5, 2))\n",
    "print(N)"
   ]
  },
  {
   "cell_type": "code",
   "execution_count": 131,
   "metadata": {},
   "outputs": [
    {
     "name": "stdout",
     "output_type": "stream",
     "text": [
      "[[ 1.32  4.41  0.39  4.96  3.51  2.03  0.84]\n",
      " [ 6.32  0.41  3.39  2.96  6.51  3.03  3.84]\n",
      " [ 1.32  5.41  1.39  3.96  2.51  2.03 -0.16]\n",
      " [ 6.32 -0.59  4.39  1.96  5.51  3.03  2.84]\n",
      " [ 1.32  6.41  0.39  4.96  3.51  2.03 -0.16]]\n"
     ]
    }
   ],
   "source": [
    "L = np.zeros((5,7))\n",
    "# subtract N[i] from each column with\n",
    "for i in range(5):\n",
    "  for j in range(7):\n",
    "    L[i][j] = np.round(M[i][j] - N[j], 2)\n",
    "print(L)"
   ]
  }
 ],
 "metadata": {
  "kernelspec": {
   "display_name": "base",
   "language": "python",
   "name": "python3"
  },
  "language_info": {
   "codemirror_mode": {
    "name": "ipython",
    "version": 3
   },
   "file_extension": ".py",
   "mimetype": "text/x-python",
   "name": "python",
   "nbconvert_exporter": "python",
   "pygments_lexer": "ipython3",
   "version": "3.9.12"
  },
  "vscode": {
   "interpreter": {
    "hash": "04a5c8fe01231348fe49bc970c05f2b15681ee080ef1807ed4693c2fd57e019f"
   }
  }
 },
 "nbformat": 4,
 "nbformat_minor": 2
}
